{
 "cells": [
  {
   "cell_type": "markdown",
   "id": "82f0a3b1-ee2d-446a-9a40-2191c503808b",
   "metadata": {},
   "source": [
    "# Extract Text from PDF"
   ]
  },
  {
   "cell_type": "code",
   "execution_count": 3,
   "id": "1b436a4c-b601-4801-b69d-b5124a8822e8",
   "metadata": {},
   "outputs": [
    {
     "name": "stdout",
     "output_type": "stream",
     "text": [
      "Extracted text saved to Dürr-ü-Sencide.txt\n"
     ]
    }
   ],
   "source": [
    "import pytesseract\n",
    "from pdf2image import convert_from_path\n",
    "\n",
    "# Path to the PDF file\n",
    "pdf_path = \"Dürr-ü-Sencide.pdf\"\n",
    "\n",
    "# Convert PDF pages to images\n",
    "pages = convert_from_path(pdf_path)\n",
    "\n",
    "# Initialize an empty string to store all extracted text\n",
    "all_text = \"\"\n",
    "\n",
    "# Loop through each page\n",
    "for i, page in enumerate(pages):\n",
    "    # Save the image\n",
    "    image_path = f\"out/page_{i + 1}.jpg\"\n",
    "    page.save(image_path, \"JPEG\")\n",
    "\n",
    "    # Extract text from the image\n",
    "    extracted_text = pytesseract.image_to_string(page, lang=\"tur\")\n",
    "    all_text += f\"Page {i + 1}:\\n{extracted_text}\\n\"\n",
    "\n",
    "# Write the extracted text to a text file\n",
    "output_file = \"Dürr-ü-Sencide.txt\"\n",
    "with open(output_file, \"w\") as f:\n",
    "    f.write(all_text)\n",
    "\n",
    "print(f\"Extracted text saved to {output_file}\")"
   ]
  },
  {
   "cell_type": "markdown",
   "id": "364c547a-a490-483f-84fc-752997320206",
   "metadata": {},
   "source": [
    "# Dürr-ü Sencide\n",
    "\n",
    "## Mufassal Islam Ilmü Hali\n",
    "\n",
    "YAZAN: \n",
    "Eski Darüleytam Beyazit Merkez\n",
    "Rüstiye Mektepleri\n",
    "Müdür ve Müsahabatı Ahlâkiye\n",
    "Malümatı Diniye Öğretmeni \n",
    "\n",
    "Hasan Hilmi Eksigil\n",
    "\n",
    "AK KİTAPEVİ\n",
    "1958"
   ]
  },
  {
   "cell_type": "markdown",
   "id": "69abca56-6442-459e-8976-27c91eb2d3a5",
   "metadata": {},
   "source": [
    "BİSMİLLÂHİRRAHMANİRRAHİM\n",
    "\n",
    "İKRA BİSMİ RABBİKE\n",
    "\n",
    "(OKU!)\n",
    "\n",
    "İslâm hidayetinin bütün insanlığa ilk hitabı budur.\n",
    "\n",
    "OKU:\n",
    "\n",
    "Her şeyi oku! Allah'ın Kitabını oku! Allahın Ayetlerini oku!! \n",
    "Tabiat kitabını oku! Beşerin bütün tarihini oku! \n",
    "İlmin her sahifesini oku! Her hakikati oku! Daima oku- \n",
    "Hidayete varmak için oku! Dalâletten uzaklaşmak için oku! \n",
    "İmanını bütünleştirmek için Allah adile oku! \n",
    "Yaradan Tanrının adile oku! \n",
    "İnsanı bir kan pıhtısından yaratan, \n",
    "fakat ona her şeyi okumak ve aydınlatmak, her\n",
    "şeyi anlamak ve anladığını yaşatmak imkânlarını veren\n",
    "yüce Tanrının adına oke!\n",
    "\n",
    "İnsana okumak nimetini ihsan ile en büyük lütffu gösteren \n",
    "Tanrının adına oku! Öğrenmek için iku! Kudret\n",
    "kaleminin bu âleme çizdiği her satırı oku! İnsana bilme\n",
    "diğini öğreten Tanrım adına oku!\n",
    "\n",
    "İslâm hidayetinin bütün insanlığa ilk hitabı budur ve\n",
    "beşerin telâkki ettiği en yüksek hidayet budur. Çünkü\n",
    "bu hidayet bilgiye dayanır ve bilgiyi her şeye üstün tutar. \n",
    "Fakat onun bilgiye verdiği üstünlük, tahakküm üstünlüğü, \n",
    "hidayet üstünlüğüdür, çünkü bilginin tahakkümü \n",
    "de beşeri —bugün de bir örneğine şahit olduğumuz — \n",
    "sefalet ve ızdıraba sevkeder ve ancak bilginin hidayeti,\n",
    "saadet ve refah getirir.\n",
    "\n",
    " \n",
    "Bunun için Müslümanlığın ilk hitabı (Oku!) emridir.\n",
    "Fakat Müslümanlık bütün hidayetin ve bütün rahmetin\n",
    "membai olan (Allah adiyle oku!) demeyi de ihmal etmez\n",
    "ve bütün bilginin hidayet ve rahmet bilgisi\n",
    "olmasini, felâket ve tahrip bilgisi olmamasını ister.\n",
    "\n",
    "Biz de bu âlemşümul ihtar karşısında bulunduğumuzu \n",
    "bütün varlığımızda duyarak bu esere başlıyor, bugünkü\n",
    "büyük kalkınmasında bir hidayete dayanan Türk yurdunun\n",
    "ve bütün İslâm Dünyasının muasır beşeriyeti tehdit\n",
    "eden felâketlerden korunmasını Cenabı Hakdan niyat ediyor ve diliyoruz\n",
    "\n",
    "İhsan MANAVOĞLU"
   ]
  }
 ],
 "metadata": {
  "kernelspec": {
   "display_name": "Python 3 (ipykernel)",
   "language": "python",
   "name": "python3"
  },
  "language_info": {
   "codemirror_mode": {
    "name": "ipython",
    "version": 3
   },
   "file_extension": ".py",
   "mimetype": "text/x-python",
   "name": "python",
   "nbconvert_exporter": "python",
   "pygments_lexer": "ipython3",
   "version": "3.12.3"
  }
 },
 "nbformat": 4,
 "nbformat_minor": 5
}
